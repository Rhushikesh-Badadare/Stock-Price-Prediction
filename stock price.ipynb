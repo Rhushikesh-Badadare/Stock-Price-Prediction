{
 "cells": [
  {
   "cell_type": "code",
   "execution_count": 1,
   "id": "f6129ce3",
   "metadata": {},
   "outputs": [],
   "source": [
    "import pandas as pd\n",
    "import matplotlib.pyplot as plt\n",
    "import numpy as np"
   ]
  },
  {
   "cell_type": "code",
   "execution_count": 2,
   "id": "62ee6521",
   "metadata": {},
   "outputs": [],
   "source": [
    "df_train = pd.read_csv('../../../../Dataset/Stock_price/Google_Stock_Price_Train.csv')\n",
    "df_test = pd.read_csv('../../../../Dataset/Stock_price/Google_Stock_Price_Test.csv')"
   ]
  },
  {
   "cell_type": "code",
   "execution_count": 3,
   "id": "4b37753e",
   "metadata": {
    "scrolled": true
   },
   "outputs": [
    {
     "data": {
      "text/html": [
       "<div>\n",
       "<style scoped>\n",
       "    .dataframe tbody tr th:only-of-type {\n",
       "        vertical-align: middle;\n",
       "    }\n",
       "\n",
       "    .dataframe tbody tr th {\n",
       "        vertical-align: top;\n",
       "    }\n",
       "\n",
       "    .dataframe thead th {\n",
       "        text-align: right;\n",
       "    }\n",
       "</style>\n",
       "<table border=\"1\" class=\"dataframe\">\n",
       "  <thead>\n",
       "    <tr style=\"text-align: right;\">\n",
       "      <th></th>\n",
       "      <th>Date</th>\n",
       "      <th>Open</th>\n",
       "      <th>High</th>\n",
       "      <th>Low</th>\n",
       "      <th>Close</th>\n",
       "      <th>Volume</th>\n",
       "    </tr>\n",
       "  </thead>\n",
       "  <tbody>\n",
       "    <tr>\n",
       "      <th>0</th>\n",
       "      <td>1/3/2012</td>\n",
       "      <td>325.25</td>\n",
       "      <td>332.83</td>\n",
       "      <td>324.97</td>\n",
       "      <td>663.59</td>\n",
       "      <td>7,380,500</td>\n",
       "    </tr>\n",
       "    <tr>\n",
       "      <th>1</th>\n",
       "      <td>1/4/2012</td>\n",
       "      <td>331.27</td>\n",
       "      <td>333.87</td>\n",
       "      <td>329.08</td>\n",
       "      <td>666.45</td>\n",
       "      <td>5,749,400</td>\n",
       "    </tr>\n",
       "    <tr>\n",
       "      <th>2</th>\n",
       "      <td>1/5/2012</td>\n",
       "      <td>329.83</td>\n",
       "      <td>330.75</td>\n",
       "      <td>326.89</td>\n",
       "      <td>657.21</td>\n",
       "      <td>6,590,300</td>\n",
       "    </tr>\n",
       "    <tr>\n",
       "      <th>3</th>\n",
       "      <td>1/6/2012</td>\n",
       "      <td>328.34</td>\n",
       "      <td>328.77</td>\n",
       "      <td>323.68</td>\n",
       "      <td>648.24</td>\n",
       "      <td>5,405,900</td>\n",
       "    </tr>\n",
       "    <tr>\n",
       "      <th>4</th>\n",
       "      <td>1/9/2012</td>\n",
       "      <td>322.04</td>\n",
       "      <td>322.29</td>\n",
       "      <td>309.46</td>\n",
       "      <td>620.76</td>\n",
       "      <td>11,688,800</td>\n",
       "    </tr>\n",
       "  </tbody>\n",
       "</table>\n",
       "</div>"
      ],
      "text/plain": [
       "       Date    Open    High     Low   Close      Volume\n",
       "0  1/3/2012  325.25  332.83  324.97  663.59   7,380,500\n",
       "1  1/4/2012  331.27  333.87  329.08  666.45   5,749,400\n",
       "2  1/5/2012  329.83  330.75  326.89  657.21   6,590,300\n",
       "3  1/6/2012  328.34  328.77  323.68  648.24   5,405,900\n",
       "4  1/9/2012  322.04  322.29  309.46  620.76  11,688,800"
      ]
     },
     "execution_count": 3,
     "metadata": {},
     "output_type": "execute_result"
    }
   ],
   "source": [
    "df_train.head()"
   ]
  },
  {
   "cell_type": "code",
   "execution_count": 4,
   "id": "a686f34f",
   "metadata": {
    "scrolled": true
   },
   "outputs": [
    {
     "data": {
      "text/html": [
       "<div>\n",
       "<style scoped>\n",
       "    .dataframe tbody tr th:only-of-type {\n",
       "        vertical-align: middle;\n",
       "    }\n",
       "\n",
       "    .dataframe tbody tr th {\n",
       "        vertical-align: top;\n",
       "    }\n",
       "\n",
       "    .dataframe thead th {\n",
       "        text-align: right;\n",
       "    }\n",
       "</style>\n",
       "<table border=\"1\" class=\"dataframe\">\n",
       "  <thead>\n",
       "    <tr style=\"text-align: right;\">\n",
       "      <th></th>\n",
       "      <th>Date</th>\n",
       "      <th>Open</th>\n",
       "      <th>High</th>\n",
       "      <th>Low</th>\n",
       "      <th>Close</th>\n",
       "      <th>Volume</th>\n",
       "    </tr>\n",
       "  </thead>\n",
       "  <tbody>\n",
       "    <tr>\n",
       "      <th>1253</th>\n",
       "      <td>12/23/2016</td>\n",
       "      <td>790.90</td>\n",
       "      <td>792.74</td>\n",
       "      <td>787.28</td>\n",
       "      <td>789.91</td>\n",
       "      <td>623,400</td>\n",
       "    </tr>\n",
       "    <tr>\n",
       "      <th>1254</th>\n",
       "      <td>12/27/2016</td>\n",
       "      <td>790.68</td>\n",
       "      <td>797.86</td>\n",
       "      <td>787.66</td>\n",
       "      <td>791.55</td>\n",
       "      <td>789,100</td>\n",
       "    </tr>\n",
       "    <tr>\n",
       "      <th>1255</th>\n",
       "      <td>12/28/2016</td>\n",
       "      <td>793.70</td>\n",
       "      <td>794.23</td>\n",
       "      <td>783.20</td>\n",
       "      <td>785.05</td>\n",
       "      <td>1,153,800</td>\n",
       "    </tr>\n",
       "    <tr>\n",
       "      <th>1256</th>\n",
       "      <td>12/29/2016</td>\n",
       "      <td>783.33</td>\n",
       "      <td>785.93</td>\n",
       "      <td>778.92</td>\n",
       "      <td>782.79</td>\n",
       "      <td>744,300</td>\n",
       "    </tr>\n",
       "    <tr>\n",
       "      <th>1257</th>\n",
       "      <td>12/30/2016</td>\n",
       "      <td>782.75</td>\n",
       "      <td>782.78</td>\n",
       "      <td>770.41</td>\n",
       "      <td>771.82</td>\n",
       "      <td>1,770,000</td>\n",
       "    </tr>\n",
       "  </tbody>\n",
       "</table>\n",
       "</div>"
      ],
      "text/plain": [
       "            Date    Open    High     Low   Close     Volume\n",
       "1253  12/23/2016  790.90  792.74  787.28  789.91    623,400\n",
       "1254  12/27/2016  790.68  797.86  787.66  791.55    789,100\n",
       "1255  12/28/2016  793.70  794.23  783.20  785.05  1,153,800\n",
       "1256  12/29/2016  783.33  785.93  778.92  782.79    744,300\n",
       "1257  12/30/2016  782.75  782.78  770.41  771.82  1,770,000"
      ]
     },
     "execution_count": 4,
     "metadata": {},
     "output_type": "execute_result"
    }
   ],
   "source": [
    "df_train.tail()"
   ]
  },
  {
   "cell_type": "code",
   "execution_count": 5,
   "id": "c6bc510e",
   "metadata": {},
   "outputs": [
    {
     "data": {
      "text/html": [
       "<div>\n",
       "<style scoped>\n",
       "    .dataframe tbody tr th:only-of-type {\n",
       "        vertical-align: middle;\n",
       "    }\n",
       "\n",
       "    .dataframe tbody tr th {\n",
       "        vertical-align: top;\n",
       "    }\n",
       "\n",
       "    .dataframe thead th {\n",
       "        text-align: right;\n",
       "    }\n",
       "</style>\n",
       "<table border=\"1\" class=\"dataframe\">\n",
       "  <thead>\n",
       "    <tr style=\"text-align: right;\">\n",
       "      <th></th>\n",
       "      <th>Date</th>\n",
       "      <th>Open</th>\n",
       "      <th>High</th>\n",
       "      <th>Low</th>\n",
       "      <th>Close</th>\n",
       "      <th>Volume</th>\n",
       "    </tr>\n",
       "  </thead>\n",
       "  <tbody>\n",
       "    <tr>\n",
       "      <th>0</th>\n",
       "      <td>1/3/2017</td>\n",
       "      <td>778.81</td>\n",
       "      <td>789.63</td>\n",
       "      <td>775.80</td>\n",
       "      <td>786.14</td>\n",
       "      <td>1,657,300</td>\n",
       "    </tr>\n",
       "    <tr>\n",
       "      <th>1</th>\n",
       "      <td>1/4/2017</td>\n",
       "      <td>788.36</td>\n",
       "      <td>791.34</td>\n",
       "      <td>783.16</td>\n",
       "      <td>786.90</td>\n",
       "      <td>1,073,000</td>\n",
       "    </tr>\n",
       "    <tr>\n",
       "      <th>2</th>\n",
       "      <td>1/5/2017</td>\n",
       "      <td>786.08</td>\n",
       "      <td>794.48</td>\n",
       "      <td>785.02</td>\n",
       "      <td>794.02</td>\n",
       "      <td>1,335,200</td>\n",
       "    </tr>\n",
       "    <tr>\n",
       "      <th>3</th>\n",
       "      <td>1/6/2017</td>\n",
       "      <td>795.26</td>\n",
       "      <td>807.90</td>\n",
       "      <td>792.20</td>\n",
       "      <td>806.15</td>\n",
       "      <td>1,640,200</td>\n",
       "    </tr>\n",
       "    <tr>\n",
       "      <th>4</th>\n",
       "      <td>1/9/2017</td>\n",
       "      <td>806.40</td>\n",
       "      <td>809.97</td>\n",
       "      <td>802.83</td>\n",
       "      <td>806.65</td>\n",
       "      <td>1,272,400</td>\n",
       "    </tr>\n",
       "  </tbody>\n",
       "</table>\n",
       "</div>"
      ],
      "text/plain": [
       "       Date    Open    High     Low   Close     Volume\n",
       "0  1/3/2017  778.81  789.63  775.80  786.14  1,657,300\n",
       "1  1/4/2017  788.36  791.34  783.16  786.90  1,073,000\n",
       "2  1/5/2017  786.08  794.48  785.02  794.02  1,335,200\n",
       "3  1/6/2017  795.26  807.90  792.20  806.15  1,640,200\n",
       "4  1/9/2017  806.40  809.97  802.83  806.65  1,272,400"
      ]
     },
     "execution_count": 5,
     "metadata": {},
     "output_type": "execute_result"
    }
   ],
   "source": [
    "df_test.head()"
   ]
  },
  {
   "cell_type": "code",
   "execution_count": 6,
   "id": "6a43d72c",
   "metadata": {},
   "outputs": [
    {
     "data": {
      "text/plain": [
       "Date       object\n",
       "Open      float64\n",
       "High      float64\n",
       "Low       float64\n",
       "Close     float64\n",
       "Volume     object\n",
       "dtype: object"
      ]
     },
     "execution_count": 6,
     "metadata": {},
     "output_type": "execute_result"
    }
   ],
   "source": [
    "df_test.dtypes"
   ]
  },
  {
   "cell_type": "code",
   "execution_count": 7,
   "id": "b1306a8a",
   "metadata": {},
   "outputs": [
    {
     "data": {
      "text/plain": [
       "[<matplotlib.lines.Line2D at 0x1f3da59c9b0>]"
      ]
     },
     "execution_count": 7,
     "metadata": {},
     "output_type": "execute_result"
    },
    {
     "data": {
      "image/png": "[encoded data removed]",
      "text/plain": [
       "<Figure size 432x288 with 1 Axes>"
      ]
     },
     "metadata": {
      "needs_background": "light"
     },
     "output_type": "display_data"
    }
   ],
   "source": [
    "plt.plot(pd.to_datetime(df_train['Date']), df_train['Open'])"
   ]
  },
  {
   "cell_type": "code",
   "execution_count": 8,
   "id": "ce5c8c48",
   "metadata": {},
   "outputs": [],
   "source": [
    "from sklearn.preprocessing import MinMaxScaler"
   ]
  },
  {
   "cell_type": "code",
   "execution_count": 9,
   "id": "664e7095",
   "metadata": {},
   "outputs": [],
   "source": [
    "df_train['Volume'] = df_train['Volume'].apply(lambda i : int(''.join(i.split(','))))"
   ]
  },
  {
   "cell_type": "code",
   "execution_count": 10,
   "id": "d22626e3",
   "metadata": {},
   "outputs": [
    {
     "name": "stdout",
     "output_type": "stream",
     "text": [
      "<class 'pandas.core.frame.DataFrame'>\n",
      "RangeIndex: 1258 entries, 0 to 1257\n",
      "Data columns (total 6 columns):\n",
      " #   Column  Non-Null Count  Dtype  \n",
      "---  ------  --------------  -----  \n",
      " 0   Date    1258 non-null   object \n",
      " 1   Open    1258 non-null   float64\n",
      " 2   High    1258 non-null   float64\n",
      " 3   Low     1258 non-null   float64\n",
      " 4   Close   1258 non-null   object \n",
      " 5   Volume  1258 non-null   int64  \n",
      "dtypes: float64(3), int64(1), object(2)\n",
      "memory usage: 59.1+ KB\n"
     ]
    }
   ],
   "source": [
    "df_train.info()"
   ]
  },
  {
   "cell_type": "code",
   "execution_count": 11,
   "id": "76e9fa02",
   "metadata": {},
   "outputs": [
    {
     "data": {
      "text/plain": [
       "0       663.59\n",
       "1       666.45\n",
       "2       657.21\n",
       "3       648.24\n",
       "4       620.76\n",
       "         ...  \n",
       "1253    789.91\n",
       "1254    791.55\n",
       "1255    785.05\n",
       "1256    782.79\n",
       "1257    771.82\n",
       "Name: Close, Length: 1258, dtype: object"
      ]
     },
     "execution_count": 11,
     "metadata": {},
     "output_type": "execute_result"
    }
   ],
   "source": [
    "#df_train['Close']"
   ]
  },
  {
   "cell_type": "code",
   "execution_count": 13,
   "id": "ccca9297",
   "metadata": {},
   "outputs": [],
   "source": [
    "#df_train['Close'] = df_train['Close'].apply(lambda i : float(''.join(i.split(','))))"
   ]
  },
  {
   "cell_type": "code",
   "execution_count": 14,
   "id": "cb2d5613",
   "metadata": {},
   "outputs": [
    {
     "data": {
      "text/plain": [
       "0       663.59\n",
       "1       666.45\n",
       "2       657.21\n",
       "3       648.24\n",
       "4       620.76\n",
       "         ...  \n",
       "1253    789.91\n",
       "1254    791.55\n",
       "1255    785.05\n",
       "1256    782.79\n",
       "1257    771.82\n",
       "Name: Close, Length: 1258, dtype: float64"
      ]
     },
     "execution_count": 14,
     "metadata": {},
     "output_type": "execute_result"
    }
   ],
   "source": [
    "#df_train['Close']"
   ]
  },
  {
   "cell_type": "code",
   "execution_count": 12,
   "id": "e0c5f5e4",
   "metadata": {},
   "outputs": [],
   "source": [
    "scaler = MinMaxScaler()\n",
    "X_scaled = scaler.fit_transform(df_train[['Open','High','Low','Volume']])"
   ]
  },
  {
   "cell_type": "code",
   "execution_count": 13,
   "id": "d54dfb25",
   "metadata": {},
   "outputs": [
    {
     "data": {
      "text/plain": [
       "(1258, 4)"
      ]
     },
     "execution_count": 13,
     "metadata": {},
     "output_type": "execute_result"
    }
   ],
   "source": [
    "X_scaled.shape"
   ]
  },
  {
   "cell_type": "code",
   "execution_count": 14,
   "id": "70ec090f",
   "metadata": {},
   "outputs": [
    {
     "data": {
      "text/plain": [
       "array([[0.08581368, 0.09640129, 0.09044931, 0.29525831],\n",
       "       [0.09701243, 0.09834351, 0.09823458, 0.22993592],\n",
       "       [0.09433366, 0.09251685, 0.09408623, 0.26361233],\n",
       "       ...,\n",
       "       [0.95725128, 0.95807422, 0.95844067, 0.04589107],\n",
       "       [0.93796041, 0.94257381, 0.95033338, 0.02949139],\n",
       "       [0.93688146, 0.93669113, 0.93421352, 0.07056868]])"
      ]
     },
     "execution_count": 14,
     "metadata": {},
     "output_type": "execute_result"
    }
   ],
   "source": [
    "X_scaled"
   ]
  },
  {
   "cell_type": "code",
   "execution_count": 15,
   "id": "f5cf52a0",
   "metadata": {},
   "outputs": [
    {
     "data": {
      "text/plain": [
       "0.08627874097775134"
      ]
     },
     "execution_count": 15,
     "metadata": {},
     "output_type": "execute_result"
    }
   ],
   "source": [
    "X_scaled[60,0]"
   ]
  },
  {
   "cell_type": "code",
   "execution_count": 16,
   "id": "d4ef5ab8",
   "metadata": {},
   "outputs": [],
   "source": [
    "X_train = []\n",
    "y_train = []\n",
    "for i in range(1198):\n",
    "    row = X_scaled[i:i+60,:]\n",
    "    y = X_scaled[i+60,:]\n",
    "    X_train.append(row)\n",
    "    y_train.append(y)\n",
    "X_train = np.array(X_train)\n",
    "y_train = np.array(y_train)"
   ]
  },
  {
   "cell_type": "code",
   "execution_count": 17,
   "id": "193e56a2",
   "metadata": {},
   "outputs": [
    {
     "data": {
      "text/plain": [
       "(1198, 60, 4)"
      ]
     },
     "execution_count": 17,
     "metadata": {},
     "output_type": "execute_result"
    }
   ],
   "source": [
    "X_train.shape"
   ]
  },
  {
   "cell_type": "code",
   "execution_count": 18,
   "id": "97196546",
   "metadata": {},
   "outputs": [
    {
     "data": {
      "text/plain": [
       "(1198, 4)"
      ]
     },
     "execution_count": 18,
     "metadata": {},
     "output_type": "execute_result"
    }
   ],
   "source": [
    "y_train.shape"
   ]
  },
  {
   "cell_type": "code",
   "execution_count": 19,
   "id": "e89e0189",
   "metadata": {},
   "outputs": [],
   "source": [
    "X_train = X_train.reshape(1198,60,4)"
   ]
  },
  {
   "cell_type": "code",
   "execution_count": 20,
   "id": "5a2e60f5",
   "metadata": {},
   "outputs": [],
   "source": [
    "# Model Building\n",
    "from tensorflow.keras.layers import Dense, LSTM\n",
    "from tensorflow.keras.models import Sequential"
   ]
  },
  {
   "cell_type": "code",
   "execution_count": 21,
   "id": "72f21d30",
   "metadata": {},
   "outputs": [],
   "source": [
    "model = Sequential()\n",
    "model.add(LSTM(80, return_sequences = True, input_shape = (60,4)))\n",
    "model.add(LSTM(80, return_sequences = True))\n",
    "model.add(LSTM(80, return_sequences = True))\n",
    "model.add(LSTM(80, return_sequences = False))\n",
    "model.add(Dense(4))\n",
    "\n",
    "model.compile(loss='mean_squared_error')"
   ]
  },
  {
   "cell_type": "code",
   "execution_count": 22,
   "id": "d1eecb84",
   "metadata": {},
   "outputs": [
    {
     "name": "stdout",
     "output_type": "stream",
     "text": [
      "Epoch 1/50\n",
      "38/38 [==============================] - 11s 89ms/step - loss: 0.0333\n",
      "Epoch 2/50\n",
      "38/38 [==============================] - 3s 89ms/step - loss: 0.0109\n",
      "Epoch 3/50\n",
      "38/38 [==============================] - 3s 90ms/step - loss: 0.0091\n",
      "Epoch 4/50\n",
      "38/38 [==============================] - 3s 87ms/step - loss: 0.0081\n",
      "Epoch 5/50\n",
      "38/38 [==============================] - 3s 88ms/step - loss: 0.0063\n",
      "Epoch 6/50\n",
      "38/38 [==============================] - 4s 96ms/step - loss: 0.0066\n",
      "Epoch 7/50\n",
      "38/38 [==============================] - 3s 86ms/step - loss: 0.0053\n",
      "Epoch 8/50\n",
      "38/38 [==============================] - 3s 85ms/step - loss: 0.0052\n",
      "Epoch 9/50\n",
      "38/38 [==============================] - 3s 85ms/step - loss: 0.0044\n",
      "Epoch 10/50\n",
      "38/38 [==============================] - 4s 98ms/step - loss: 0.0046\n",
      "Epoch 11/50\n",
      "38/38 [==============================] - 3s 84ms/step - loss: 0.0038\n",
      "Epoch 12/50\n",
      "38/38 [==============================] - 4s 103ms/step - loss: 0.0041\n",
      "Epoch 13/50\n",
      "38/38 [==============================] - 4s 96ms/step - loss: 0.0040\n",
      "Epoch 14/50\n",
      "38/38 [==============================] - 3s 84ms/step - loss: 0.0033\n",
      "Epoch 15/50\n",
      "38/38 [==============================] - 3s 84ms/step - loss: 0.0037\n",
      "Epoch 16/50\n",
      "38/38 [==============================] - 3s 84ms/step - loss: 0.0032\n",
      "Epoch 17/50\n",
      "38/38 [==============================] - 3s 85ms/step - loss: 0.0031\n",
      "Epoch 18/50\n",
      "38/38 [==============================] - 3s 86ms/step - loss: 0.0030\n",
      "Epoch 19/50\n",
      "38/38 [==============================] - 3s 91ms/step - loss: 0.0029\n",
      "Epoch 20/50\n",
      "38/38 [==============================] - 3s 83ms/step - loss: 0.0029\n",
      "Epoch 21/50\n",
      "38/38 [==============================] - 3s 90ms/step - loss: 0.0027\n",
      "Epoch 22/50\n",
      "38/38 [==============================] - 3s 87ms/step - loss: 0.0026\n",
      "Epoch 23/50\n",
      "38/38 [==============================] - 4s 93ms/step - loss: 0.0024\n",
      "Epoch 24/50\n",
      "38/38 [==============================] - 4s 95ms/step - loss: 0.0027\n",
      "Epoch 25/50\n",
      "38/38 [==============================] - 3s 85ms/step - loss: 0.0024\n",
      "Epoch 26/50\n",
      "38/38 [==============================] - 3s 84ms/step - loss: 0.0026\n",
      "Epoch 27/50\n",
      "38/38 [==============================] - 3s 84ms/step - loss: 0.0023\n",
      "Epoch 28/50\n",
      "38/38 [==============================] - 3s 83ms/step - loss: 0.0024\n",
      "Epoch 29/50\n",
      "38/38 [==============================] - 3s 83ms/step - loss: 0.0023\n",
      "Epoch 30/50\n",
      "38/38 [==============================] - 3s 92ms/step - loss: 0.0022\n",
      "Epoch 31/50\n",
      "38/38 [==============================] - 3s 88ms/step - loss: 0.0023\n",
      "Epoch 32/50\n",
      "38/38 [==============================] - 3s 83ms/step - loss: 0.0021\n",
      "Epoch 33/50\n",
      "38/38 [==============================] - 3s 87ms/step - loss: 0.0022\n",
      "Epoch 34/50\n",
      "38/38 [==============================] - 3s 83ms/step - loss: 0.0022\n",
      "Epoch 35/50\n",
      "38/38 [==============================] - 3s 83ms/step - loss: 0.0020\n",
      "Epoch 36/50\n",
      "38/38 [==============================] - 3s 82ms/step - loss: 0.0021\n",
      "Epoch 37/50\n",
      "38/38 [==============================] - 3s 84ms/step - loss: 0.0021\n",
      "Epoch 38/50\n",
      "38/38 [==============================] - 3s 82ms/step - loss: 0.0019\n",
      "Epoch 39/50\n",
      "38/38 [==============================] - 3s 86ms/step - loss: 0.0019\n",
      "Epoch 40/50\n",
      "38/38 [==============================] - 3s 82ms/step - loss: 0.0020\n",
      "Epoch 41/50\n",
      "38/38 [==============================] - 3s 82ms/step - loss: 0.0018\n",
      "Epoch 42/50\n",
      "38/38 [==============================] - 3s 82ms/step - loss: 0.0019\n",
      "Epoch 43/50\n",
      "38/38 [==============================] - 3s 84ms/step - loss: 0.0017\n",
      "Epoch 44/50\n",
      "38/38 [==============================] - 3s 82ms/step - loss: 0.0018\n",
      "Epoch 45/50\n",
      "38/38 [==============================] - 3s 83ms/step - loss: 0.0018\n",
      "Epoch 46/50\n",
      "38/38 [==============================] - 3s 82ms/step - loss: 0.0016\n",
      "Epoch 47/50\n",
      "38/38 [==============================] - 3s 82ms/step - loss: 0.0016\n",
      "Epoch 48/50\n",
      "38/38 [==============================] - 3s 83ms/step - loss: 0.0016\n",
      "Epoch 49/50\n",
      "38/38 [==============================] - 3s 82ms/step - loss: 0.0015\n",
      "Epoch 50/50\n",
      "38/38 [==============================] - 3s 83ms/step - loss: 0.0016\n"
     ]
    }
   ],
   "source": [
    "hist = model.fit(X_train,y_train,batch_size=32,epochs=50)"
   ]
  },
  {
   "cell_type": "code",
   "execution_count": 23,
   "id": "50bf3445",
   "metadata": {},
   "outputs": [],
   "source": [
    "df_test['Volume'] = df_test['Volume'].apply(lambda i : int(''.join(i.split(','))))"
   ]
  },
  {
   "cell_type": "code",
   "execution_count": 24,
   "id": "29dfe582",
   "metadata": {},
   "outputs": [],
   "source": [
    "X_test_scaled = scaler.transform(df_test[['Open','High','Low','Volume']])"
   ]
  },
  {
   "cell_type": "code",
   "execution_count": 25,
   "id": "37746c5c",
   "metadata": {},
   "outputs": [],
   "source": [
    "temp = np.vstack([X_scaled[-60:], X_test_scaled])"
   ]
  },
  {
   "cell_type": "code",
   "execution_count": 26,
   "id": "cefda828",
   "metadata": {},
   "outputs": [
    {
     "data": {
      "text/plain": [
       "(80, 4)"
      ]
     },
     "execution_count": 26,
     "metadata": {},
     "output_type": "execute_result"
    }
   ],
   "source": [
    "temp.shape"
   ]
  },
  {
   "cell_type": "code",
   "execution_count": 27,
   "id": "0fb70bee",
   "metadata": {},
   "outputs": [],
   "source": [
    "X_test = []\n",
    "for i in range(20):\n",
    "    row = temp[i:i+60,:]\n",
    "    X_test.append(row)\n",
    "X_test = np.array(X_test)"
   ]
  },
  {
   "cell_type": "code",
   "execution_count": 28,
   "id": "70e80cf2",
   "metadata": {},
   "outputs": [
    {
     "data": {
      "text/plain": [
       "(20, 60, 4)"
      ]
     },
     "execution_count": 28,
     "metadata": {},
     "output_type": "execute_result"
    }
   ],
   "source": [
    "X_test.shape"
   ]
  },
  {
   "cell_type": "code",
   "execution_count": 29,
   "id": "5488a66e",
   "metadata": {},
   "outputs": [],
   "source": [
    "X_test = X_test.reshape(20,60,4)"
   ]
  },
  {
   "cell_type": "code",
   "execution_count": 30,
   "id": "5fe52dd5",
   "metadata": {},
   "outputs": [
    {
     "data": {
      "text/plain": [
       "array([[0.95274377, 0.9514471 , 0.95694417, 0.05450585],\n",
       "       [0.9617012 , 0.9598038 , 0.9663603 , 0.05535362],\n",
       "       [0.9691226 , 0.96638346, 0.9737559 , 0.05238556],\n",
       "       [0.9669801 , 0.964394  , 0.9710447 , 0.05201729],\n",
       "       [0.98150426, 0.97733486, 0.98509365, 0.05160014],\n",
       "       [0.98761445, 0.9826745 , 0.9905214 , 0.04939387],\n",
       "       [0.98616594, 0.98123056, 0.9884197 , 0.04872681],\n",
       "       [0.98491615, 0.9800973 , 0.98695344, 0.04885955],\n",
       "       [0.9837215 , 0.9793078 , 0.9857902 , 0.05011708],\n",
       "       [0.9929137 , 0.9875194 , 0.99518156, 0.04901378],\n",
       "       [0.98044395, 0.97677994, 0.98255676, 0.05049732],\n",
       "       [0.98419493, 0.980205  , 0.9867542 , 0.05131565],\n",
       "       [0.9867825 , 0.98258436, 0.9895936 , 0.05000304],\n",
       "       [0.9803791 , 0.9772427 , 0.9831136 , 0.05209289],\n",
       "       [0.9895007 , 0.98552924, 0.9923728 , 0.05335507],\n",
       "       [1.0026065 , 0.996873  , 1.0052117 , 0.05067371],\n",
       "       [1.0089607 , 1.0021042 , 1.0106745 , 0.04872527],\n",
       "       [1.001918  , 0.9962605 , 1.002663  , 0.05319897],\n",
       "       [0.9980399 , 0.99320865, 0.9989014 , 0.05694219],\n",
       "       [0.9620312 , 0.96236396, 0.9637442 , 0.06418405]], dtype=float32)"
      ]
     },
     "execution_count": 30,
     "metadata": {},
     "output_type": "execute_result"
    }
   ],
   "source": [
    "yp = model.predict(X_test)\n",
    "yp"
   ]
  },
  {
   "cell_type": "code",
   "execution_count": 31,
   "id": "3f0c1fd7",
   "metadata": {},
   "outputs": [
    {
     "data": {
      "text/plain": [
       "(20, 4)"
      ]
     },
     "execution_count": 31,
     "metadata": {},
     "output_type": "execute_result"
    }
   ],
   "source": [
    "yp.shape"
   ]
  },
  {
   "cell_type": "code",
   "execution_count": 32,
   "id": "0efb73f7",
   "metadata": {},
   "outputs": [
    {
     "data": {
      "text/plain": [
       "array([[7.9127692e+02, 7.9068140e+02, 7.8240997e+02, 1.3689110e+06],\n",
       "       [7.9609210e+02, 7.9515619e+02, 7.8738092e+02, 1.3900799e+06],\n",
       "       [8.0008154e+02, 7.9867938e+02, 7.9128522e+02, 1.3159675e+06],\n",
       "       [7.9892981e+02, 7.9761407e+02, 7.8985394e+02, 1.3067718e+06],\n",
       "       [8.0673743e+02, 8.0454352e+02, 7.9727063e+02, 1.2963556e+06],\n",
       "       [8.1002203e+02, 8.0740271e+02, 8.0013605e+02, 1.2412650e+06],\n",
       "       [8.0924335e+02, 8.0662952e+02, 7.9902655e+02, 1.2246085e+06],\n",
       "       [8.0857153e+02, 8.0602271e+02, 7.9825244e+02, 1.2279230e+06],\n",
       "       [8.0792932e+02, 8.0559998e+02, 7.9763837e+02, 1.2593236e+06],\n",
       "       [8.1287067e+02, 8.0999701e+02, 8.0259625e+02, 1.2317741e+06],\n",
       "       [8.0616742e+02, 8.0424640e+02, 7.9593140e+02, 1.2688180e+06],\n",
       "       [8.0818384e+02, 8.0608038e+02, 7.9814722e+02, 1.2892519e+06],\n",
       "       [8.0957483e+02, 8.0735449e+02, 7.9964624e+02, 1.2564760e+06],\n",
       "       [8.0613257e+02, 8.0449420e+02, 7.9622534e+02, 1.3086596e+06],\n",
       "       [8.1103601e+02, 8.0893134e+02, 8.0111346e+02, 1.3401761e+06],\n",
       "       [8.1808112e+02, 8.1500562e+02, 8.0789136e+02, 1.2732225e+06],\n",
       "       [8.2149689e+02, 8.1780676e+02, 8.1077527e+02, 1.2245700e+06],\n",
       "       [8.1771100e+02, 8.1467761e+02, 8.0654584e+02, 1.3362785e+06],\n",
       "       [8.1562634e+02, 8.1304346e+02, 8.0456006e+02, 1.4297465e+06],\n",
       "       [7.9626947e+02, 7.9652704e+02, 7.8599988e+02, 1.6105758e+06]],\n",
       "      dtype=float32)"
      ]
     },
     "execution_count": 32,
     "metadata": {},
     "output_type": "execute_result"
    }
   ],
   "source": [
    "yp = scaler.inverse_transform(yp)\n",
    "yp"
   ]
  },
  {
   "cell_type": "code",
   "execution_count": 33,
   "id": "99ae07fc",
   "metadata": {},
   "outputs": [
    {
     "data": {
      "text/plain": [
       "(20, 4)"
      ]
     },
     "execution_count": 33,
     "metadata": {},
     "output_type": "execute_result"
    }
   ],
   "source": [
    "yp.shape"
   ]
  },
  {
   "cell_type": "code",
   "execution_count": 34,
   "id": "b933948f",
   "metadata": {},
   "outputs": [
    {
     "data": {
      "text/plain": [
       "[<matplotlib.lines.Line2D at 0x202a18c8eb8>]"
      ]
     },
     "execution_count": 34,
     "metadata": {},
     "output_type": "execute_result"
    },
    {
     "data": {
      "image/png": "[encoded data removed]",
      "text/plain": [
       "<Figure size 432x288 with 1 Axes>"
      ]
     },
     "metadata": {
      "needs_background": "light"
     },
     "output_type": "display_data"
    }
   ],
   "source": [
    "# Open\n",
    "plt.plot(df_test['Open'], c='blue')\n",
    "plt.plot(yp[:,0], c='red')"
   ]
  },
  {
   "cell_type": "code",
   "execution_count": 35,
   "id": "335da09f",
   "metadata": {},
   "outputs": [
    {
     "data": {
      "text/plain": [
       "[<matplotlib.lines.Line2D at 0x202a1969da0>]"
      ]
     },
     "execution_count": 35,
     "metadata": {},
     "output_type": "execute_result"
    },
    {
     "data": {
      "image/png": "[encoded data removed]",
      "text/plain": [
       "<Figure size 432x288 with 1 Axes>"
      ]
     },
     "metadata": {
      "needs_background": "light"
     },
     "output_type": "display_data"
    }
   ],
   "source": [
    "# High\n",
    "plt.plot(df_test['High'], c='blue')\n",
    "plt.plot(yp[:,1], c='red')"
   ]
  },
  {
   "cell_type": "code",
   "execution_count": 36,
   "id": "b7a5d5b6",
   "metadata": {},
   "outputs": [
    {
     "data": {
      "text/plain": [
       "[<matplotlib.lines.Line2D at 0x202a19a2fd0>]"
      ]
     },
     "execution_count": 36,
     "metadata": {},
     "output_type": "execute_result"
    },
    {
     "data": {
      "image/png": "[encoded data removed]",
      "text/plain": [
       "<Figure size 432x288 with 1 Axes>"
      ]
     },
     "metadata": {
      "needs_background": "light"
     },
     "output_type": "display_data"
    }
   ],
   "source": [
    "# Low\n",
    "plt.plot(df_test['Low'], c='blue')\n",
    "plt.plot(yp[:,2], c='red')"
   ]
  },
  {
   "cell_type": "code",
   "execution_count": 37,
   "id": "1c976b12",
   "metadata": {},
   "outputs": [
    {
     "data": {
      "text/plain": [
       "[<matplotlib.lines.Line2D at 0x202a19fab00>]"
      ]
     },
     "execution_count": 37,
     "metadata": {},
     "output_type": "execute_result"
    },
    {
     "data": {
      "image/png": "[encoded data removed]",
      "text/plain": [
       "<Figure size 432x288 with 1 Axes>"
      ]
     },
     "metadata": {
      "needs_background": "light"
     },
     "output_type": "display_data"
    }
   ],
   "source": [
    "# Volume\n",
    "plt.plot(df_test['Volume'], c='blue')\n",
    "plt.plot(yp[:,3], c='red')"
   ]
  },
  {
   "cell_type": "code",
   "execution_count": null,
   "id": "7eeed44c",
   "metadata": {},
   "outputs": [],
   "source": []
  }
 ],
 "metadata": {
  "kernelspec": {
   "display_name": "Python [conda env:dsml20_env1]",
   "language": "python",
   "name": "conda-env-dsml20_env1-py"
  },
  "language_info": {
   "codemirror_mode": {
    "name": "ipython",
    "version": 3
   },
   "file_extension": ".py",
   "mimetype": "text/x-python",
   "name": "python",
   "nbconvert_exporter": "python",
   "pygments_lexer": "ipython3",
   "version": "3.6.13"
  }
 },
 "nbformat": 4,
 "nbformat_minor": 5
}
